{
 "cells": [
  {
   "cell_type": "code",
   "execution_count": 1,
   "metadata": {
    "collapsed": true
   },
   "outputs": [],
   "source": [
    "import numpy as np\n",
    "from scipy.interpolate import UnivariateSpline\n",
    "from astrotools.spectrum import Spectrum\n",
    "from astrotools.filters import Filters, FILTER_DIR\n",
    "\n",
    "\n",
    "def func(wav, flux, params, flt):\n",
    "    npars = params.size\n",
    "\n",
    "    # spline control points\n",
    "    splineX = np.zeros(npars+2)\n",
    "    splineY = np.zeros(npars+2)\n",
    "\n",
    "    # Set central control points\n",
    "    for i in np.arange(0, npars):\n",
    "        splineX[i+1] = flt[i].wav\n",
    "        splineY[i+1] = params[i]\n",
    "\n",
    "    # Set first control point\n",
    "    splineX[0] = np.min(wav) - 100\n",
    "    splineY[0] = splineX[0] * ((splineY[1] - splineY[2]) / (splineX[1] - splineX[2]))\n",
    "    splineY[0] += ((splineX[1] * splineY[2] - splineY[1] * splineX[2]) /\n",
    "                   (splineX[1] - splineX[2]))\n",
    "\n",
    "    # Set last control point\n",
    "    splineX[npars+1] =  np.max(wav) + 100\n",
    "    splineY[npars+1] = splineX[npars+1] * ((splineY[npars-1] - splineY[npars]) /\n",
    "                       (splineX[npars-1] - splineX[npars]))\n",
    "    splineY[npars+1] += ((splineX[npars-1] * splineY[npars] - splineY[npars-1] *\n",
    "                         splineX[npars]) / (splineX[npars-1] - splineX[npars]))\n",
    "\n",
    "    # initialise gsl spline\n",
    "    spl = UnivariateSpline(splineX, splineY)\n",
    "    \n",
    "    # mangle the spectra\n",
    "    return flux * spl(wav)\n",
    "\n",
    "def residual(lc_data, flt):\n",
    "    mangledSpec = func(wav, flux, params, flt)\n",
    "    res = np.zeros(lc_data.size);\n",
    "\n",
    "    for i in np.arange(res.size):\n",
    "        res[i] = (lc_data[i].flux - flt.flux(mangledSpec, lc_data[i].flt)) / lc_data[i].flux_err\n",
    " \n",
    "    return res"
   ]
  },
  {
   "cell_type": "code",
   "execution_count": 2,
   "metadata": {
    "collapsed": true
   },
   "outputs": [],
   "source": [
    "flt = Filters(load_all=True)\n",
    "spec = Spectrum(file_name='/Users/szymon/Projects/CoCo/data/spec/SN2011dh/2011dh_-12.68.txt')"
   ]
  },
  {
   "cell_type": "code",
   "execution_count": 3,
   "metadata": {},
   "outputs": [
    {
     "data": {
      "text/plain": [
       "array([  1.63280822e-17])"
      ]
     },
     "execution_count": 3,
     "metadata": {},
     "output_type": "execute_result"
    }
   ],
   "source": [
    "spec.synthesis_photometry(['Bessell_V'], flt)"
   ]
  },
  {
   "cell_type": "code",
   "execution_count": null,
   "metadata": {
    "collapsed": true
   },
   "outputs": [],
   "source": [
    ""
   ]
  }
 ],
 "metadata": {
  "kernelspec": {
   "display_name": "Python [default]",
   "language": "python",
   "name": "python3"
  },
  "language_info": {
   "codemirror_mode": {
    "name": "ipython",
    "version": 3
   },
   "file_extension": ".py",
   "mimetype": "text/x-python",
   "name": "python",
   "nbconvert_exporter": "python",
   "pygments_lexer": "ipython3",
   "version": "3.5.3"
  }
 },
 "nbformat": 4,
 "nbformat_minor": 1
}
